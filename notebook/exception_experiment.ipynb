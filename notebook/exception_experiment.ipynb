{
 "cells": [
  {
   "cell_type": "code",
   "execution_count": 9,
   "id": "0a47344a",
   "metadata": {},
   "outputs": [],
   "source": [
    "import os"
   ]
  },
  {
   "cell_type": "code",
   "execution_count": 10,
   "id": "ca6eac9d",
   "metadata": {},
   "outputs": [],
   "source": [
    "import sys\n",
    "import traceback"
   ]
  },
  {
   "cell_type": "code",
   "execution_count": 11,
   "id": "db1b0ad7",
   "metadata": {},
   "outputs": [],
   "source": [
    "from logger.custom_logger import CustomLogger\n",
    "logger = CustomLogger().get_logger(\"Exception_experiment\")"
   ]
  },
  {
   "cell_type": "markdown",
   "id": "5f250f00",
   "metadata": {},
   "source": [
    "- CustomException class "
   ]
  },
  {
   "cell_type": "code",
   "execution_count": 12,
   "id": "69f95c8f",
   "metadata": {},
   "outputs": [
    {
     "ename": "DocumnetPortalException",
     "evalue": "Document Portal Exception Handling",
     "output_type": "error",
     "traceback": [
      "\u001b[1;31m---------------------------------------------------------------------------\u001b[0m",
      "\u001b[1;31mZeroDivisionError\u001b[0m                         Traceback (most recent call last)",
      "Cell \u001b[1;32mIn[12], line 14\u001b[0m\n\u001b[0;32m     12\u001b[0m \u001b[38;5;28;01mtry\u001b[39;00m :\n\u001b[0;32m     13\u001b[0m     \u001b[38;5;66;03m#simulate an error\u001b[39;00m\n\u001b[1;32m---> 14\u001b[0m     a \u001b[38;5;241m=\u001b[39m \u001b[38;5;241;43m1\u001b[39;49m\u001b[43m \u001b[49m\u001b[38;5;241;43m/\u001b[39;49m\u001b[43m \u001b[49m\u001b[38;5;241;43m0\u001b[39;49m\n\u001b[0;32m     15\u001b[0m     \u001b[38;5;28mprint\u001b[39m(a)\n",
      "\u001b[1;31mZeroDivisionError\u001b[0m: division by zero",
      "\nDuring handling of the above exception, another exception occurred:\n",
      "\u001b[1;31mDocumnetPortalException\u001b[0m                   Traceback (most recent call last)",
      "Cell \u001b[1;32mIn[12], line 19\u001b[0m\n\u001b[0;32m     16\u001b[0m \u001b[38;5;28;01mexcept\u001b[39;00m \u001b[38;5;167;01mException\u001b[39;00m \u001b[38;5;28;01mas\u001b[39;00m e:\n\u001b[0;32m     17\u001b[0m     app_exc \u001b[38;5;241m=\u001b[39m DocumnetPortalException(e,sys)\n\u001b[1;32m---> 19\u001b[0m     \u001b[38;5;28;01mraise\u001b[39;00m app_exc    \n",
      "\u001b[1;31mDocumnetPortalException\u001b[0m: Document Portal Exception Handling"
     ]
    }
   ],
   "source": [
    "class DocumnetPortalException(Exception):\n",
    "    \"\"\" \n",
    "    Custom Exceptionfor Documnet Portal\n",
    "    \"\"\"\n",
    "    def __init__(self,error_message,error_details):\n",
    "        pass \n",
    "    def __str__(self):\n",
    "        return \"Document Portal Exception Handling\"\n",
    "    \n",
    "\n",
    "if __name__==\"__main__\":\n",
    "    try :\n",
    "        #simulate an error\n",
    "        a = 1 / 0\n",
    "        print(a)\n",
    "    except Exception as e:\n",
    "        app_exc = DocumnetPortalException(e,sys)\n",
    "        \n",
    "        raise app_exc    \n",
    "    "
   ]
  },
  {
   "cell_type": "code",
   "execution_count": 14,
   "id": "aa897b67",
   "metadata": {},
   "outputs": [
    {
     "ename": "DocumnetPortalException",
     "evalue": " \n        Error in [C:\\Users\\Mohan\\AppData\\Local\\Temp\\ipykernel_17160\\2496883231.py] at line [24]\n        Message : division by zero\n        Traceback:Traceback (most recent call last):\n  File \"C:\\Users\\Mohan\\AppData\\Local\\Temp\\ipykernel_17160\\2496883231.py\", line 24, in <module>\n    a = 1 / 0\nZeroDivisionError: division by zero\n\n        ",
     "output_type": "error",
     "traceback": [
      "\u001b[1;31m---------------------------------------------------------------------------\u001b[0m",
      "\u001b[1;31mZeroDivisionError\u001b[0m                         Traceback (most recent call last)",
      "Cell \u001b[1;32mIn[14], line 24\u001b[0m\n\u001b[0;32m     22\u001b[0m \u001b[38;5;28;01mtry\u001b[39;00m :\n\u001b[0;32m     23\u001b[0m     \u001b[38;5;66;03m#simulate an error\u001b[39;00m\n\u001b[1;32m---> 24\u001b[0m     a \u001b[38;5;241m=\u001b[39m \u001b[38;5;241;43m1\u001b[39;49m\u001b[43m \u001b[49m\u001b[38;5;241;43m/\u001b[39;49m\u001b[43m \u001b[49m\u001b[38;5;241;43m0\u001b[39;49m\n\u001b[0;32m     25\u001b[0m     \u001b[38;5;28mprint\u001b[39m(a)\n",
      "\u001b[1;31mZeroDivisionError\u001b[0m: division by zero",
      "\nDuring handling of the above exception, another exception occurred:\n",
      "\u001b[1;31mDocumnetPortalException\u001b[0m                   Traceback (most recent call last)",
      "Cell \u001b[1;32mIn[14], line 29\u001b[0m\n\u001b[0;32m     27\u001b[0m app_exc \u001b[38;5;241m=\u001b[39m DocumnetPortalException(e,sys)\n\u001b[0;32m     28\u001b[0m logger\u001b[38;5;241m.\u001b[39merror(app_exc)\n\u001b[1;32m---> 29\u001b[0m \u001b[38;5;28;01mraise\u001b[39;00m app_exc    \n",
      "\u001b[1;31mDocumnetPortalException\u001b[0m:  \n        Error in [C:\\Users\\Mohan\\AppData\\Local\\Temp\\ipykernel_17160\\2496883231.py] at line [24]\n        Message : division by zero\n        Traceback:Traceback (most recent call last):\n  File \"C:\\Users\\Mohan\\AppData\\Local\\Temp\\ipykernel_17160\\2496883231.py\", line 24, in <module>\n    a = 1 / 0\nZeroDivisionError: division by zero\n\n        "
     ]
    }
   ],
   "source": [
    "class DocumnetPortalException(Exception):\n",
    "    \"\"\" \n",
    "    Custom Exception for Documnet Portal\n",
    "    \"\"\"\n",
    "    def __init__(self,error_message:str,error_details:sys):\n",
    "        _,_,exc_tb = error_details.exc_info() #Provide the compelte exceution detail\n",
    "        self.file_name = exc_tb.tb_frame.f_code.co_filename\n",
    "        self.lineno = exc_tb.tb_lineno\n",
    "        self.error_message = str(error_message)\n",
    "        self.traceback_str = ''.join(traceback.format_exception(*error_details.exc_info()))\n",
    "\n",
    "        \n",
    "    def __str__(self):\n",
    "        return f\"\"\" \n",
    "        Error in [{self.file_name}] at line [{self.lineno}]\n",
    "        Message : {self.error_message}\n",
    "        Traceback:{self.traceback_str}\n",
    "        \"\"\"\n",
    "    \n",
    "\n",
    "if __name__==\"__main__\":\n",
    "    try :\n",
    "        #simulate an error\n",
    "        a = 1 / 0\n",
    "        print(a)\n",
    "    except Exception as e:\n",
    "        app_exc = DocumnetPortalException(e,sys)\n",
    "        logger.error(app_exc)\n",
    "        raise app_exc    \n",
    "    "
   ]
  },
  {
   "cell_type": "code",
   "execution_count": null,
   "id": "772fca80",
   "metadata": {},
   "outputs": [],
   "source": []
  },
  {
   "cell_type": "markdown",
   "id": "f48c8222",
   "metadata": {},
   "source": [
    "1. log this info(file,cloud config,command prompt) (it will keep the record of the erro and will not stop the execution of the code)\n",
    "2. raise the Exception(it will stop the execution of the code) "
   ]
  },
  {
   "cell_type": "code",
   "execution_count": null,
   "id": "8928b442",
   "metadata": {},
   "outputs": [],
   "source": []
  },
  {
   "cell_type": "code",
   "execution_count": null,
   "id": "6e225e0c",
   "metadata": {},
   "outputs": [],
   "source": []
  }
 ],
 "metadata": {
  "kernelspec": {
   "display_name": "dp_p",
   "language": "python",
   "name": "python3"
  },
  "language_info": {
   "codemirror_mode": {
    "name": "ipython",
    "version": 3
   },
   "file_extension": ".py",
   "mimetype": "text/x-python",
   "name": "python",
   "nbconvert_exporter": "python",
   "pygments_lexer": "ipython3",
   "version": "3.10.18"
  }
 },
 "nbformat": 4,
 "nbformat_minor": 5
}
